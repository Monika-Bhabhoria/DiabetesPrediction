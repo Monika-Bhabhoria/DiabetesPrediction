{
 "cells": [
  {
   "cell_type": "code",
   "execution_count": 1,
   "id": "702ba301",
   "metadata": {},
   "outputs": [],
   "source": [
    " ## https://www.kaggle.com/datasets/iammustafatz/diabetes-prediction-dataset"
   ]
  },
  {
   "cell_type": "code",
   "execution_count": 2,
   "id": "18b44285",
   "metadata": {},
   "outputs": [],
   "source": [
    "import pandas as pd"
   ]
  },
  {
   "cell_type": "markdown",
   "id": "830e4ef0",
   "metadata": {},
   "source": [
    "Read data"
   ]
  },
  {
   "cell_type": "code",
   "execution_count": 3,
   "id": "55da2d36",
   "metadata": {},
   "outputs": [],
   "source": [
    "df=pd.read_csv(\"Data/diabetes_prediction_dataset.csv\")"
   ]
  },
  {
   "cell_type": "code",
   "execution_count": 4,
   "id": "6db19294",
   "metadata": {},
   "outputs": [
    {
     "data": {
      "text/html": [
       "<div>\n",
       "<style scoped>\n",
       "    .dataframe tbody tr th:only-of-type {\n",
       "        vertical-align: middle;\n",
       "    }\n",
       "\n",
       "    .dataframe tbody tr th {\n",
       "        vertical-align: top;\n",
       "    }\n",
       "\n",
       "    .dataframe thead th {\n",
       "        text-align: right;\n",
       "    }\n",
       "</style>\n",
       "<table border=\"1\" class=\"dataframe\">\n",
       "  <thead>\n",
       "    <tr style=\"text-align: right;\">\n",
       "      <th></th>\n",
       "      <th>gender</th>\n",
       "      <th>age</th>\n",
       "      <th>hypertension</th>\n",
       "      <th>heart_disease</th>\n",
       "      <th>smoking_history</th>\n",
       "      <th>bmi</th>\n",
       "      <th>HbA1c_level</th>\n",
       "      <th>blood_glucose_level</th>\n",
       "      <th>diabetes</th>\n",
       "    </tr>\n",
       "  </thead>\n",
       "  <tbody>\n",
       "    <tr>\n",
       "      <th>2</th>\n",
       "      <td>Male</td>\n",
       "      <td>28.0</td>\n",
       "      <td>0</td>\n",
       "      <td>0</td>\n",
       "      <td>never</td>\n",
       "      <td>27.32</td>\n",
       "      <td>5.7</td>\n",
       "      <td>158</td>\n",
       "      <td>0</td>\n",
       "    </tr>\n",
       "    <tr>\n",
       "      <th>3</th>\n",
       "      <td>Female</td>\n",
       "      <td>36.0</td>\n",
       "      <td>0</td>\n",
       "      <td>0</td>\n",
       "      <td>current</td>\n",
       "      <td>23.45</td>\n",
       "      <td>5.0</td>\n",
       "      <td>155</td>\n",
       "      <td>0</td>\n",
       "    </tr>\n",
       "    <tr>\n",
       "      <th>1</th>\n",
       "      <td>Female</td>\n",
       "      <td>54.0</td>\n",
       "      <td>0</td>\n",
       "      <td>0</td>\n",
       "      <td>No Info</td>\n",
       "      <td>27.32</td>\n",
       "      <td>6.6</td>\n",
       "      <td>80</td>\n",
       "      <td>0</td>\n",
       "    </tr>\n",
       "    <tr>\n",
       "      <th>4</th>\n",
       "      <td>Male</td>\n",
       "      <td>76.0</td>\n",
       "      <td>1</td>\n",
       "      <td>1</td>\n",
       "      <td>current</td>\n",
       "      <td>20.14</td>\n",
       "      <td>4.8</td>\n",
       "      <td>155</td>\n",
       "      <td>0</td>\n",
       "    </tr>\n",
       "    <tr>\n",
       "      <th>0</th>\n",
       "      <td>Female</td>\n",
       "      <td>80.0</td>\n",
       "      <td>0</td>\n",
       "      <td>1</td>\n",
       "      <td>never</td>\n",
       "      <td>25.19</td>\n",
       "      <td>6.6</td>\n",
       "      <td>140</td>\n",
       "      <td>0</td>\n",
       "    </tr>\n",
       "  </tbody>\n",
       "</table>\n",
       "</div>"
      ],
      "text/plain": [
       "   gender   age  hypertension  heart_disease smoking_history    bmi  \\\n",
       "2    Male  28.0             0              0           never  27.32   \n",
       "3  Female  36.0             0              0         current  23.45   \n",
       "1  Female  54.0             0              0         No Info  27.32   \n",
       "4    Male  76.0             1              1         current  20.14   \n",
       "0  Female  80.0             0              1           never  25.19   \n",
       "\n",
       "   HbA1c_level  blood_glucose_level  diabetes  \n",
       "2          5.7                  158         0  \n",
       "3          5.0                  155         0  \n",
       "1          6.6                   80         0  \n",
       "4          4.8                  155         0  \n",
       "0          6.6                  140         0  "
      ]
     },
     "execution_count": 4,
     "metadata": {},
     "output_type": "execute_result"
    }
   ],
   "source": [
    "df.head().sample(5)"
   ]
  },
  {
   "cell_type": "code",
   "execution_count": 5,
   "id": "383e6e42",
   "metadata": {},
   "outputs": [
    {
     "name": "stdout",
     "output_type": "stream",
     "text": [
      "<class 'pandas.core.frame.DataFrame'>\n",
      "RangeIndex: 100000 entries, 0 to 99999\n",
      "Data columns (total 9 columns):\n",
      " #   Column               Non-Null Count   Dtype  \n",
      "---  ------               --------------   -----  \n",
      " 0   gender               100000 non-null  object \n",
      " 1   age                  100000 non-null  float64\n",
      " 2   hypertension         100000 non-null  int64  \n",
      " 3   heart_disease        100000 non-null  int64  \n",
      " 4   smoking_history      100000 non-null  object \n",
      " 5   bmi                  100000 non-null  float64\n",
      " 6   HbA1c_level          100000 non-null  float64\n",
      " 7   blood_glucose_level  100000 non-null  int64  \n",
      " 8   diabetes             100000 non-null  int64  \n",
      "dtypes: float64(3), int64(4), object(2)\n",
      "memory usage: 6.9+ MB\n"
     ]
    }
   ],
   "source": [
    "df.info()"
   ]
  },
  {
   "cell_type": "code",
   "execution_count": 6,
   "id": "bb1499b8",
   "metadata": {},
   "outputs": [
    {
     "data": {
      "text/html": [
       "<div>\n",
       "<style scoped>\n",
       "    .dataframe tbody tr th:only-of-type {\n",
       "        vertical-align: middle;\n",
       "    }\n",
       "\n",
       "    .dataframe tbody tr th {\n",
       "        vertical-align: top;\n",
       "    }\n",
       "\n",
       "    .dataframe thead th {\n",
       "        text-align: right;\n",
       "    }\n",
       "</style>\n",
       "<table border=\"1\" class=\"dataframe\">\n",
       "  <thead>\n",
       "    <tr style=\"text-align: right;\">\n",
       "      <th></th>\n",
       "      <th>age</th>\n",
       "      <th>hypertension</th>\n",
       "      <th>heart_disease</th>\n",
       "      <th>bmi</th>\n",
       "      <th>HbA1c_level</th>\n",
       "      <th>blood_glucose_level</th>\n",
       "      <th>diabetes</th>\n",
       "    </tr>\n",
       "  </thead>\n",
       "  <tbody>\n",
       "    <tr>\n",
       "      <th>count</th>\n",
       "      <td>100000.000000</td>\n",
       "      <td>100000.00000</td>\n",
       "      <td>100000.000000</td>\n",
       "      <td>100000.000000</td>\n",
       "      <td>100000.000000</td>\n",
       "      <td>100000.000000</td>\n",
       "      <td>100000.000000</td>\n",
       "    </tr>\n",
       "    <tr>\n",
       "      <th>mean</th>\n",
       "      <td>41.885856</td>\n",
       "      <td>0.07485</td>\n",
       "      <td>0.039420</td>\n",
       "      <td>27.320767</td>\n",
       "      <td>5.527507</td>\n",
       "      <td>138.058060</td>\n",
       "      <td>0.085000</td>\n",
       "    </tr>\n",
       "    <tr>\n",
       "      <th>std</th>\n",
       "      <td>22.516840</td>\n",
       "      <td>0.26315</td>\n",
       "      <td>0.194593</td>\n",
       "      <td>6.636783</td>\n",
       "      <td>1.070672</td>\n",
       "      <td>40.708136</td>\n",
       "      <td>0.278883</td>\n",
       "    </tr>\n",
       "    <tr>\n",
       "      <th>min</th>\n",
       "      <td>0.080000</td>\n",
       "      <td>0.00000</td>\n",
       "      <td>0.000000</td>\n",
       "      <td>10.010000</td>\n",
       "      <td>3.500000</td>\n",
       "      <td>80.000000</td>\n",
       "      <td>0.000000</td>\n",
       "    </tr>\n",
       "    <tr>\n",
       "      <th>25%</th>\n",
       "      <td>24.000000</td>\n",
       "      <td>0.00000</td>\n",
       "      <td>0.000000</td>\n",
       "      <td>23.630000</td>\n",
       "      <td>4.800000</td>\n",
       "      <td>100.000000</td>\n",
       "      <td>0.000000</td>\n",
       "    </tr>\n",
       "    <tr>\n",
       "      <th>50%</th>\n",
       "      <td>43.000000</td>\n",
       "      <td>0.00000</td>\n",
       "      <td>0.000000</td>\n",
       "      <td>27.320000</td>\n",
       "      <td>5.800000</td>\n",
       "      <td>140.000000</td>\n",
       "      <td>0.000000</td>\n",
       "    </tr>\n",
       "    <tr>\n",
       "      <th>75%</th>\n",
       "      <td>60.000000</td>\n",
       "      <td>0.00000</td>\n",
       "      <td>0.000000</td>\n",
       "      <td>29.580000</td>\n",
       "      <td>6.200000</td>\n",
       "      <td>159.000000</td>\n",
       "      <td>0.000000</td>\n",
       "    </tr>\n",
       "    <tr>\n",
       "      <th>max</th>\n",
       "      <td>80.000000</td>\n",
       "      <td>1.00000</td>\n",
       "      <td>1.000000</td>\n",
       "      <td>95.690000</td>\n",
       "      <td>9.000000</td>\n",
       "      <td>300.000000</td>\n",
       "      <td>1.000000</td>\n",
       "    </tr>\n",
       "  </tbody>\n",
       "</table>\n",
       "</div>"
      ],
      "text/plain": [
       "                 age  hypertension  heart_disease            bmi  \\\n",
       "count  100000.000000  100000.00000  100000.000000  100000.000000   \n",
       "mean       41.885856       0.07485       0.039420      27.320767   \n",
       "std        22.516840       0.26315       0.194593       6.636783   \n",
       "min         0.080000       0.00000       0.000000      10.010000   \n",
       "25%        24.000000       0.00000       0.000000      23.630000   \n",
       "50%        43.000000       0.00000       0.000000      27.320000   \n",
       "75%        60.000000       0.00000       0.000000      29.580000   \n",
       "max        80.000000       1.00000       1.000000      95.690000   \n",
       "\n",
       "         HbA1c_level  blood_glucose_level       diabetes  \n",
       "count  100000.000000        100000.000000  100000.000000  \n",
       "mean        5.527507           138.058060       0.085000  \n",
       "std         1.070672            40.708136       0.278883  \n",
       "min         3.500000            80.000000       0.000000  \n",
       "25%         4.800000           100.000000       0.000000  \n",
       "50%         5.800000           140.000000       0.000000  \n",
       "75%         6.200000           159.000000       0.000000  \n",
       "max         9.000000           300.000000       1.000000  "
      ]
     },
     "execution_count": 6,
     "metadata": {},
     "output_type": "execute_result"
    }
   ],
   "source": [
    "df.describe()"
   ]
  },
  {
   "cell_type": "code",
   "execution_count": 7,
   "id": "7696c05e",
   "metadata": {},
   "outputs": [
    {
     "data": {
      "text/html": [
       "<div>\n",
       "<style scoped>\n",
       "    .dataframe tbody tr th:only-of-type {\n",
       "        vertical-align: middle;\n",
       "    }\n",
       "\n",
       "    .dataframe tbody tr th {\n",
       "        vertical-align: top;\n",
       "    }\n",
       "\n",
       "    .dataframe thead th {\n",
       "        text-align: right;\n",
       "    }\n",
       "</style>\n",
       "<table border=\"1\" class=\"dataframe\">\n",
       "  <thead>\n",
       "    <tr style=\"text-align: right;\">\n",
       "      <th></th>\n",
       "      <th>gender</th>\n",
       "      <th>smoking_history</th>\n",
       "    </tr>\n",
       "  </thead>\n",
       "  <tbody>\n",
       "    <tr>\n",
       "      <th>count</th>\n",
       "      <td>100000</td>\n",
       "      <td>100000</td>\n",
       "    </tr>\n",
       "    <tr>\n",
       "      <th>unique</th>\n",
       "      <td>3</td>\n",
       "      <td>6</td>\n",
       "    </tr>\n",
       "    <tr>\n",
       "      <th>top</th>\n",
       "      <td>Female</td>\n",
       "      <td>No Info</td>\n",
       "    </tr>\n",
       "    <tr>\n",
       "      <th>freq</th>\n",
       "      <td>58552</td>\n",
       "      <td>35816</td>\n",
       "    </tr>\n",
       "  </tbody>\n",
       "</table>\n",
       "</div>"
      ],
      "text/plain": [
       "        gender smoking_history\n",
       "count   100000          100000\n",
       "unique       3               6\n",
       "top     Female         No Info\n",
       "freq     58552           35816"
      ]
     },
     "execution_count": 7,
     "metadata": {},
     "output_type": "execute_result"
    }
   ],
   "source": [
    "df.describe(include=\"O\")"
   ]
  },
  {
   "cell_type": "code",
   "execution_count": 8,
   "id": "20d4f323",
   "metadata": {},
   "outputs": [
    {
     "data": {
      "text/plain": [
       "gender                 0\n",
       "age                    0\n",
       "hypertension           0\n",
       "heart_disease          0\n",
       "smoking_history        0\n",
       "bmi                    0\n",
       "HbA1c_level            0\n",
       "blood_glucose_level    0\n",
       "diabetes               0\n",
       "dtype: int64"
      ]
     },
     "execution_count": 8,
     "metadata": {},
     "output_type": "execute_result"
    }
   ],
   "source": [
    "df.isna().sum()"
   ]
  },
  {
   "cell_type": "code",
   "execution_count": 9,
   "id": "3fa9e5d4",
   "metadata": {},
   "outputs": [],
   "source": [
    "df.age = df.age.astype(int)"
   ]
  },
  {
   "cell_type": "code",
   "execution_count": 10,
   "id": "1d28f33c",
   "metadata": {},
   "outputs": [],
   "source": [
    "import matplotlib.pyplot as plt"
   ]
  },
  {
   "cell_type": "code",
   "execution_count": 11,
   "id": "b196757d",
   "metadata": {},
   "outputs": [
    {
     "data": {
      "image/png": "[encoded data removed]",
      "text/plain": [
       "<Figure size 640x480 with 2 Axes>"
      ]
     },
     "metadata": {},
     "output_type": "display_data"
    }
   ],
   "source": [
    "df.plot(x='blood_glucose_level', y='HbA1c_level', kind='scatter', c='diabetes', colormap='viridis')\n",
    "plt.show()"
   ]
  },
  {
   "cell_type": "markdown",
   "id": "cf5bb259",
   "metadata": {},
   "source": [
    "transform categorical columns"
   ]
  },
  {
   "cell_type": "code",
   "execution_count": 12,
   "id": "433618b9",
   "metadata": {},
   "outputs": [],
   "source": [
    "from sklearn.preprocessing import LabelEncoder\n",
    "\n",
    "df[[\"gender\", \"smoking_history\"]] = df[[\"gender\", \"smoking_history\"]].apply(LabelEncoder().fit_transform)"
   ]
  },
  {
   "cell_type": "code",
   "execution_count": 13,
   "id": "86fd676b",
   "metadata": {},
   "outputs": [
    {
     "data": {
      "text/html": [
       "<div>\n",
       "<style scoped>\n",
       "    .dataframe tbody tr th:only-of-type {\n",
       "        vertical-align: middle;\n",
       "    }\n",
       "\n",
       "    .dataframe tbody tr th {\n",
       "        vertical-align: top;\n",
       "    }\n",
       "\n",
       "    .dataframe thead th {\n",
       "        text-align: right;\n",
       "    }\n",
       "</style>\n",
       "<table border=\"1\" class=\"dataframe\">\n",
       "  <thead>\n",
       "    <tr style=\"text-align: right;\">\n",
       "      <th></th>\n",
       "      <th>gender</th>\n",
       "      <th>age</th>\n",
       "      <th>hypertension</th>\n",
       "      <th>heart_disease</th>\n",
       "      <th>smoking_history</th>\n",
       "      <th>bmi</th>\n",
       "      <th>HbA1c_level</th>\n",
       "      <th>blood_glucose_level</th>\n",
       "      <th>diabetes</th>\n",
       "    </tr>\n",
       "  </thead>\n",
       "  <tbody>\n",
       "    <tr>\n",
       "      <th>0</th>\n",
       "      <td>0</td>\n",
       "      <td>80</td>\n",
       "      <td>0</td>\n",
       "      <td>1</td>\n",
       "      <td>4</td>\n",
       "      <td>25.19</td>\n",
       "      <td>6.6</td>\n",
       "      <td>140</td>\n",
       "      <td>0</td>\n",
       "    </tr>\n",
       "    <tr>\n",
       "      <th>1</th>\n",
       "      <td>0</td>\n",
       "      <td>54</td>\n",
       "      <td>0</td>\n",
       "      <td>0</td>\n",
       "      <td>0</td>\n",
       "      <td>27.32</td>\n",
       "      <td>6.6</td>\n",
       "      <td>80</td>\n",
       "      <td>0</td>\n",
       "    </tr>\n",
       "    <tr>\n",
       "      <th>2</th>\n",
       "      <td>1</td>\n",
       "      <td>28</td>\n",
       "      <td>0</td>\n",
       "      <td>0</td>\n",
       "      <td>4</td>\n",
       "      <td>27.32</td>\n",
       "      <td>5.7</td>\n",
       "      <td>158</td>\n",
       "      <td>0</td>\n",
       "    </tr>\n",
       "    <tr>\n",
       "      <th>3</th>\n",
       "      <td>0</td>\n",
       "      <td>36</td>\n",
       "      <td>0</td>\n",
       "      <td>0</td>\n",
       "      <td>1</td>\n",
       "      <td>23.45</td>\n",
       "      <td>5.0</td>\n",
       "      <td>155</td>\n",
       "      <td>0</td>\n",
       "    </tr>\n",
       "    <tr>\n",
       "      <th>4</th>\n",
       "      <td>1</td>\n",
       "      <td>76</td>\n",
       "      <td>1</td>\n",
       "      <td>1</td>\n",
       "      <td>1</td>\n",
       "      <td>20.14</td>\n",
       "      <td>4.8</td>\n",
       "      <td>155</td>\n",
       "      <td>0</td>\n",
       "    </tr>\n",
       "  </tbody>\n",
       "</table>\n",
       "</div>"
      ],
      "text/plain": [
       "   gender  age  hypertension  heart_disease  smoking_history    bmi  \\\n",
       "0       0   80             0              1                4  25.19   \n",
       "1       0   54             0              0                0  27.32   \n",
       "2       1   28             0              0                4  27.32   \n",
       "3       0   36             0              0                1  23.45   \n",
       "4       1   76             1              1                1  20.14   \n",
       "\n",
       "   HbA1c_level  blood_glucose_level  diabetes  \n",
       "0          6.6                  140         0  \n",
       "1          6.6                   80         0  \n",
       "2          5.7                  158         0  \n",
       "3          5.0                  155         0  \n",
       "4          4.8                  155         0  "
      ]
     },
     "execution_count": 13,
     "metadata": {},
     "output_type": "execute_result"
    }
   ],
   "source": [
    "df.head()"
   ]
  },
  {
   "cell_type": "code",
   "execution_count": 14,
   "id": "c18bc195",
   "metadata": {},
   "outputs": [],
   "source": [
    "X = df.drop(\"diabetes\", axis = 1)\n",
    "y = df.diabetes"
   ]
  },
  {
   "cell_type": "code",
   "execution_count": 15,
   "id": "202aacea",
   "metadata": {},
   "outputs": [],
   "source": [
    "from sklearn.model_selection import train_test_split\n",
    "\n",
    "X_train, X_test, y_train, y_test = train_test_split(X, y, test_size=0.20, random_state=0)"
   ]
  },
  {
   "cell_type": "code",
   "execution_count": 16,
   "id": "28ab8ce3",
   "metadata": {},
   "outputs": [],
   "source": [
    "from sklearn.metrics import f1_score, accuracy_score, mean_squared_error, classification_report, confusion_matrix"
   ]
  },
  {
   "cell_type": "code",
   "execution_count": 21,
   "id": "40df9b09",
   "metadata": {},
   "outputs": [
    {
     "name": "stdout",
     "output_type": "stream",
     "text": [
      "Accuracy Score:  94.965\n",
      "Mean Squared Error:  0.05035\n",
      "F1 Score:  0.7135135135135136\n",
      "Classification Report\n",
      "               precision    recall  f1-score   support\n",
      "\n",
      "           0       0.98      0.97      0.97     18297\n",
      "           1       0.69      0.74      0.71      1703\n",
      "\n",
      "    accuracy                           0.95     20000\n",
      "   macro avg       0.83      0.85      0.84     20000\n",
      "weighted avg       0.95      0.95      0.95     20000\n",
      "\n",
      "Confusion Matrix\n",
      " [[17739   558]\n",
      " [  449  1254]]\n"
     ]
    }
   ],
   "source": [
    "#Decision Tree Classifier\n",
    "from sklearn.tree import DecisionTreeClassifier\n",
    "\n",
    "dt_classifier = DecisionTreeClassifier()\n",
    "dt_classifier.fit(X_train, y_train)\n",
    "y_pred_dt = dt_classifier.predict(X_test)\n",
    "print(\"Accuracy Score: \", accuracy_score(y_test, y_pred_dt) * 100)\n",
    "print(\"Mean Squared Error: \", mean_squared_error(y_test, y_pred_dt))\n",
    "print(\"F1 Score: \", f1_score(y_test, y_pred_dt))\n",
    "print(\"Classification Report\\n\", classification_report(y_test, y_pred_dt))\n",
    "print(\"Confusion Matrix\\n\", confusion_matrix(y_test, y_pred_dt))"
   ]
  },
  {
   "cell_type": "code",
   "execution_count": 22,
   "id": "53cebe71",
   "metadata": {},
   "outputs": [
    {
     "name": "stdout",
     "output_type": "stream",
     "text": [
      "Accuracy Score:  97.055\n",
      "Mean Squared Error:  0.02945\n",
      "F1 Score:  0.8002712783994574\n",
      "Classification Report\n",
      "               precision    recall  f1-score   support\n",
      "\n",
      "           0       0.97      1.00      0.98     18297\n",
      "           1       0.95      0.69      0.80      1703\n",
      "\n",
      "    accuracy                           0.97     20000\n",
      "   macro avg       0.96      0.84      0.89     20000\n",
      "weighted avg       0.97      0.97      0.97     20000\n",
      "\n",
      "Confusion Matrix\n",
      " [[18231    66]\n",
      " [  523  1180]]\n"
     ]
    }
   ],
   "source": [
    "#Random Forest\n",
    "from sklearn.ensemble import RandomForestClassifier\n",
    "\n",
    "rf_classifier = RandomForestClassifier(n_estimators=100)\n",
    "rf_classifier.fit(X_train, y_train)\n",
    "y_pred_rf = rf_classifier.predict(X_test)\n",
    "print(\"Accuracy Score: \", accuracy_score(y_test, y_pred_rf) * 100)\n",
    "print(\"Mean Squared Error: \", mean_squared_error(y_test, y_pred_rf))\n",
    "print(\"F1 Score: \", f1_score(y_test, y_pred_rf))\n",
    "print(\"Classification Report\\n\", classification_report(y_test, y_pred_rf))\n",
    "print(\"Confusion Matrix\\n\", confusion_matrix(y_test, y_pred_rf))"
   ]
  },
  {
   "cell_type": "code",
   "execution_count": 23,
   "id": "06479ea6",
   "metadata": {},
   "outputs": [
    {
     "name": "stdout",
     "output_type": "stream",
     "text": [
      "Accuracy Score:  97.03500000000001\n",
      "Mean Squared Error:  0.02965\n",
      "F1 Score:  0.8017385489802742\n",
      "Classification Report\n",
      "               precision    recall  f1-score   support\n",
      "\n",
      "           0       0.97      1.00      0.98     18297\n",
      "           1       0.93      0.70      0.80      1703\n",
      "\n",
      "    accuracy                           0.97     20000\n",
      "   macro avg       0.95      0.85      0.89     20000\n",
      "weighted avg       0.97      0.97      0.97     20000\n",
      "\n",
      "Confusion Matrix\n",
      " [[18208    89]\n",
      " [  504  1199]]\n"
     ]
    }
   ],
   "source": [
    "#XG Boost\n",
    "from xgboost import XGBClassifier\n",
    "\n",
    "xg_classifier = XGBClassifier(learning_rate = 0.5, n_estimators = 100)\n",
    "xg_classifier.fit(X_train, y_train)\n",
    "y_pred_xg = xg_classifier.predict(X_test)\n",
    "print(\"Accuracy Score: \", accuracy_score(y_test, y_pred_xg) * 100)\n",
    "print(\"Mean Squared Error: \", mean_squared_error(y_test, y_pred_xg))\n",
    "print(\"F1 Score: \", f1_score(y_test, y_pred_xg))\n",
    "print(\"Classification Report\\n\", classification_report(y_test, y_pred_xg))\n",
    "print(\"Confusion Matrix\\n\", confusion_matrix(y_test, y_pred_xg))"
   ]
  },
  {
   "cell_type": "code",
   "execution_count": 25,
   "id": "ea0ce6a3",
   "metadata": {},
   "outputs": [
    {
     "name": "stdout",
     "output_type": "stream",
     "text": [
      "0:\tlearn: 0.3547696\ttotal: 14.3ms\tremaining: 1.41s\n",
      "1:\tlearn: 0.2304813\ttotal: 25.5ms\tremaining: 1.25s\n",
      "2:\tlearn: 0.1706219\ttotal: 34.9ms\tremaining: 1.13s\n",
      "3:\tlearn: 0.1342434\ttotal: 42.1ms\tremaining: 1.01s\n",
      "4:\tlearn: 0.1140619\ttotal: 48.5ms\tremaining: 921ms\n",
      "5:\tlearn: 0.1015065\ttotal: 55.1ms\tremaining: 864ms\n",
      "6:\tlearn: 0.0958088\ttotal: 61.7ms\tremaining: 820ms\n",
      "7:\tlearn: 0.0906094\ttotal: 70ms\tremaining: 805ms\n",
      "8:\tlearn: 0.0870270\ttotal: 77.2ms\tremaining: 781ms\n",
      "9:\tlearn: 0.0857500\ttotal: 84.9ms\tremaining: 764ms\n",
      "10:\tlearn: 0.0839062\ttotal: 92.6ms\tremaining: 749ms\n",
      "11:\tlearn: 0.0823687\ttotal: 99.1ms\tremaining: 727ms\n",
      "12:\tlearn: 0.0819095\ttotal: 106ms\tremaining: 708ms\n",
      "13:\tlearn: 0.0812076\ttotal: 113ms\tremaining: 693ms\n",
      "14:\tlearn: 0.0805610\ttotal: 119ms\tremaining: 676ms\n",
      "15:\tlearn: 0.0802224\ttotal: 127ms\tremaining: 666ms\n",
      "16:\tlearn: 0.0798561\ttotal: 133ms\tremaining: 652ms\n",
      "17:\tlearn: 0.0795753\ttotal: 140ms\tremaining: 639ms\n",
      "18:\tlearn: 0.0791492\ttotal: 146ms\tremaining: 625ms\n",
      "19:\tlearn: 0.0789402\ttotal: 154ms\tremaining: 616ms\n",
      "20:\tlearn: 0.0788272\ttotal: 160ms\tremaining: 603ms\n",
      "21:\tlearn: 0.0787085\ttotal: 167ms\tremaining: 592ms\n",
      "22:\tlearn: 0.0784644\ttotal: 175ms\tremaining: 584ms\n",
      "23:\tlearn: 0.0783462\ttotal: 181ms\tremaining: 574ms\n",
      "24:\tlearn: 0.0778083\ttotal: 190ms\tremaining: 569ms\n",
      "25:\tlearn: 0.0775559\ttotal: 196ms\tremaining: 559ms\n",
      "26:\tlearn: 0.0774089\ttotal: 204ms\tremaining: 550ms\n",
      "27:\tlearn: 0.0773151\ttotal: 210ms\tremaining: 541ms\n",
      "28:\tlearn: 0.0771738\ttotal: 219ms\tremaining: 537ms\n",
      "29:\tlearn: 0.0770754\ttotal: 232ms\tremaining: 541ms\n",
      "30:\tlearn: 0.0769298\ttotal: 243ms\tremaining: 541ms\n",
      "31:\tlearn: 0.0768415\ttotal: 263ms\tremaining: 558ms\n",
      "32:\tlearn: 0.0766314\ttotal: 274ms\tremaining: 556ms\n",
      "33:\tlearn: 0.0765737\ttotal: 281ms\tremaining: 545ms\n",
      "34:\tlearn: 0.0763714\ttotal: 290ms\tremaining: 539ms\n",
      "35:\tlearn: 0.0762445\ttotal: 305ms\tremaining: 542ms\n",
      "36:\tlearn: 0.0761015\ttotal: 319ms\tremaining: 543ms\n",
      "37:\tlearn: 0.0758975\ttotal: 327ms\tremaining: 533ms\n",
      "38:\tlearn: 0.0758110\ttotal: 334ms\tremaining: 523ms\n",
      "39:\tlearn: 0.0757005\ttotal: 342ms\tremaining: 513ms\n",
      "40:\tlearn: 0.0755588\ttotal: 350ms\tremaining: 504ms\n",
      "41:\tlearn: 0.0754476\ttotal: 358ms\tremaining: 494ms\n",
      "42:\tlearn: 0.0753542\ttotal: 369ms\tremaining: 490ms\n",
      "43:\tlearn: 0.0752858\ttotal: 380ms\tremaining: 483ms\n",
      "44:\tlearn: 0.0751336\ttotal: 388ms\tremaining: 474ms\n",
      "45:\tlearn: 0.0749500\ttotal: 395ms\tremaining: 464ms\n",
      "46:\tlearn: 0.0748700\ttotal: 406ms\tremaining: 457ms\n",
      "47:\tlearn: 0.0747923\ttotal: 423ms\tremaining: 458ms\n",
      "48:\tlearn: 0.0747443\ttotal: 437ms\tremaining: 455ms\n",
      "49:\tlearn: 0.0746053\ttotal: 454ms\tremaining: 454ms\n",
      "50:\tlearn: 0.0745361\ttotal: 461ms\tremaining: 443ms\n",
      "51:\tlearn: 0.0744468\ttotal: 468ms\tremaining: 432ms\n",
      "52:\tlearn: 0.0743520\ttotal: 475ms\tremaining: 421ms\n",
      "53:\tlearn: 0.0742010\ttotal: 482ms\tremaining: 410ms\n",
      "54:\tlearn: 0.0740795\ttotal: 488ms\tremaining: 399ms\n",
      "55:\tlearn: 0.0740032\ttotal: 495ms\tremaining: 389ms\n",
      "56:\tlearn: 0.0739323\ttotal: 501ms\tremaining: 378ms\n",
      "57:\tlearn: 0.0738528\ttotal: 507ms\tremaining: 367ms\n",
      "58:\tlearn: 0.0737888\ttotal: 519ms\tremaining: 361ms\n",
      "59:\tlearn: 0.0737427\ttotal: 526ms\tremaining: 351ms\n",
      "60:\tlearn: 0.0736191\ttotal: 534ms\tremaining: 341ms\n",
      "61:\tlearn: 0.0735329\ttotal: 540ms\tremaining: 331ms\n",
      "62:\tlearn: 0.0734978\ttotal: 547ms\tremaining: 321ms\n",
      "63:\tlearn: 0.0733811\ttotal: 554ms\tremaining: 311ms\n",
      "64:\tlearn: 0.0733252\ttotal: 561ms\tremaining: 302ms\n",
      "65:\tlearn: 0.0732409\ttotal: 573ms\tremaining: 295ms\n",
      "66:\tlearn: 0.0731701\ttotal: 580ms\tremaining: 286ms\n",
      "67:\tlearn: 0.0730843\ttotal: 587ms\tremaining: 276ms\n",
      "68:\tlearn: 0.0730045\ttotal: 594ms\tremaining: 267ms\n",
      "69:\tlearn: 0.0729745\ttotal: 600ms\tremaining: 257ms\n",
      "70:\tlearn: 0.0729219\ttotal: 607ms\tremaining: 248ms\n",
      "71:\tlearn: 0.0728860\ttotal: 613ms\tremaining: 238ms\n",
      "72:\tlearn: 0.0728338\ttotal: 620ms\tremaining: 229ms\n",
      "73:\tlearn: 0.0727785\ttotal: 626ms\tremaining: 220ms\n",
      "74:\tlearn: 0.0727607\ttotal: 633ms\tremaining: 211ms\n",
      "75:\tlearn: 0.0727047\ttotal: 640ms\tremaining: 202ms\n",
      "76:\tlearn: 0.0725967\ttotal: 652ms\tremaining: 195ms\n",
      "77:\tlearn: 0.0725198\ttotal: 662ms\tremaining: 187ms\n",
      "78:\tlearn: 0.0724759\ttotal: 668ms\tremaining: 178ms\n",
      "79:\tlearn: 0.0723507\ttotal: 675ms\tremaining: 169ms\n",
      "80:\tlearn: 0.0722548\ttotal: 682ms\tremaining: 160ms\n",
      "81:\tlearn: 0.0721633\ttotal: 688ms\tremaining: 151ms\n",
      "82:\tlearn: 0.0720933\ttotal: 703ms\tremaining: 144ms\n",
      "83:\tlearn: 0.0719885\ttotal: 710ms\tremaining: 135ms\n",
      "84:\tlearn: 0.0718668\ttotal: 723ms\tremaining: 128ms\n",
      "85:\tlearn: 0.0718242\ttotal: 730ms\tremaining: 119ms\n",
      "86:\tlearn: 0.0716952\ttotal: 736ms\tremaining: 110ms\n",
      "87:\tlearn: 0.0716303\ttotal: 743ms\tremaining: 101ms\n",
      "88:\tlearn: 0.0715608\ttotal: 750ms\tremaining: 92.7ms\n",
      "89:\tlearn: 0.0714626\ttotal: 757ms\tremaining: 84.1ms\n",
      "90:\tlearn: 0.0713820\ttotal: 764ms\tremaining: 75.6ms\n",
      "91:\tlearn: 0.0713331\ttotal: 772ms\tremaining: 67.2ms\n",
      "92:\tlearn: 0.0712543\ttotal: 780ms\tremaining: 58.7ms\n",
      "93:\tlearn: 0.0711706\ttotal: 787ms\tremaining: 50.2ms\n",
      "94:\tlearn: 0.0711076\ttotal: 794ms\tremaining: 41.8ms\n",
      "95:\tlearn: 0.0710107\ttotal: 803ms\tremaining: 33.5ms\n",
      "96:\tlearn: 0.0709814\ttotal: 810ms\tremaining: 25.1ms\n",
      "97:\tlearn: 0.0708912\ttotal: 818ms\tremaining: 16.7ms\n",
      "98:\tlearn: 0.0707980\ttotal: 825ms\tremaining: 8.33ms\n",
      "99:\tlearn: 0.0707153\ttotal: 832ms\tremaining: 0us\n"
     ]
    },
    {
     "data": {
      "text/plain": [
       "<catboost.core.CatBoostClassifier at 0x1f7994fb5d0>"
      ]
     },
     "execution_count": 25,
     "metadata": {},
     "output_type": "execute_result"
    }
   ],
   "source": [
    "#cat Boost\n",
    "from catboost import CatBoostClassifier\n",
    "\n",
    "cb_classifier = CatBoostClassifier(learning_rate=0.5, n_estimators=100)\n",
    "cb_classifier.fit(X_train, y_train)"
   ]
  },
  {
   "cell_type": "code",
   "execution_count": 26,
   "id": "d01fbc1b",
   "metadata": {},
   "outputs": [
    {
     "name": "stdout",
     "output_type": "stream",
     "text": [
      "Accuracy Score:  97.16\n",
      "Mean Squared Error:  0.0284\n",
      "F1 Score:  0.8068027210884353\n",
      "Classification Report\n",
      "               precision    recall  f1-score   support\n",
      "\n",
      "           0       0.97      1.00      0.98     18297\n",
      "           1       0.96      0.70      0.81      1703\n",
      "\n",
      "    accuracy                           0.97     20000\n",
      "   macro avg       0.97      0.85      0.90     20000\n",
      "weighted avg       0.97      0.97      0.97     20000\n",
      "\n",
      "Confusion Matrix\n",
      " [[18246    51]\n",
      " [  517  1186]]\n"
     ]
    }
   ],
   "source": [
    "y_pred_cb = cb_classifier.predict(X_test)\n",
    "print(\"Accuracy Score: \", accuracy_score(y_test, y_pred_cb) * 100)\n",
    "print(\"Mean Squared Error: \", mean_squared_error(y_test, y_pred_cb))\n",
    "print(\"F1 Score: \", f1_score(y_test, y_pred_cb))\n",
    "print(\"Classification Report\\n\", classification_report(y_test, y_pred_cb))\n",
    "print(\"Confusion Matrix\\n\", confusion_matrix(y_test, y_pred_cb))"
   ]
  },
  {
   "cell_type": "code",
   "execution_count": null,
   "id": "cacc03af",
   "metadata": {},
   "outputs": [],
   "source": []
  },
  {
   "cell_type": "code",
   "execution_count": null,
   "id": "b537a9ff",
   "metadata": {},
   "outputs": [],
   "source": []
  }
 ],
 "metadata": {
  "kernelspec": {
   "display_name": "Python 3 (ipykernel)",
   "language": "python",
   "name": "python3"
  },
  "language_info": {
   "codemirror_mode": {
    "name": "ipython",
    "version": 3
   },
   "file_extension": ".py",
   "mimetype": "text/x-python",
   "name": "python",
   "nbconvert_exporter": "python",
   "pygments_lexer": "ipython3",
   "version": "3.11.3"
  }
 },
 "nbformat": 4,
 "nbformat_minor": 5
}
